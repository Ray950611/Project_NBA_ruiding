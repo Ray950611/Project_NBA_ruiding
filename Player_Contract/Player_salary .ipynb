{
 "cells": [
  {
   "cell_type": "code",
   "execution_count": 2,
   "metadata": {
    "collapsed": true
   },
   "outputs": [],
   "source": [
    "from flask import Flask, render_template, request, redirect\n",
    "from bs4 import BeautifulSoup\n",
    "import requests\n",
    "import urllib2\n",
    "import numpy as np\n",
    "import pandas as pd"
   ]
  },
  {
   "cell_type": "code",
   "execution_count": 3,
   "metadata": {
    "collapsed": true
   },
   "outputs": [],
   "source": [
    "def get_sal_data(season):\n",
    "    data_list = []\n",
    "    cap = requests.get('http://www.spotrac.com/nba/cap/'+str(season)+'/')\n",
    "    soup= BeautifulSoup(cap.text,\"html.parser\")\n",
    "    table = soup.find('div',{'id':'main','class':' xlarge'}).find()\n",
    "    sal_cap = str(table)[int(str(table).find('$')+1):int(str(table).find('<br>'))]\n",
    "    cap_value = float(sal_cap.replace(',',''))/10000\n",
    "    for pos in ['point-guard','shooting-guard','small-forward','power-forward','center']:\n",
    "        pos_num = ['point-guard','shooting-guard','small-forward','power-forward','center'].index(pos)\n",
    "        contract = requests.get('http://www.spotrac.com/nba/rankings/'+str(season)+'/cap-hit/'+pos+'/')\n",
    "        soup_new= BeautifulSoup(contract.text,\"html.parser\")\n",
    "        table = soup_new.find('table',{'class':'datatable noborder'})\n",
    "        l = table.tbody.find_all('tr')\n",
    "\n",
    "        for i in l:\n",
    "            row = [j.get_text().encode('utf-8') for j in i.find_all('td')]\n",
    "            name = row[2].split('\\n')[1]\n",
    "            sal = int(int(row[3].split('$')[1].replace(',',''))/10000)\n",
    "            ratio = float(sal)/cap_value\n",
    "            data_list.append([name,int(pos_num+1),sal,ratio])\n",
    "    return data_list"
   ]
  },
  {
   "cell_type": "code",
   "execution_count": 4,
   "metadata": {
    "collapsed": true
   },
   "outputs": [],
   "source": [
    "def get_player_data(year):\n",
    "    advanced_train = 'http://www.basketball-reference.com/leagues/NBA_'+str(year)+'_advanced.html'\n",
    "    req = requests.get(advanced_train)\n",
    "    text = BeautifulSoup(req.text, 'html.parser')\n",
    "    stats = text.find('div',{'id': 'all_advanced_stats'})\n",
    "    per_data = {}\n",
    "    age_data = {}\n",
    "    min_data = {}\n",
    "    wS_data = {}\n",
    "    for i in stats.tbody.find_all('tr'):\n",
    "\n",
    "        row = [j.get_text().encode('utf-8') for j in i.find_all('td')]\n",
    "\n",
    "        if len(row)==0:\n",
    "            continue\n",
    "        mins = row[5]\n",
    "        gp = row[4]\n",
    "        mp = float(mins)/float(gp)\n",
    "        age = int(row[2])\n",
    "        if mp > 5.0 and age>24:\n",
    "            name = str(row[0])\n",
    "            per = float(row[6])\n",
    "            wS = float(row[21])\n",
    "            if name not in per_data.keys() and per>=0 and wS>=0:\n",
    "                per_data.update({name:per})\n",
    "                age_data.update({name:age})\n",
    "                min_data.update({name:mp})\n",
    "                wS_data.update({name:wS})\n",
    "    return per_data,age_data,min_data,wS_data"
   ]
  },
  {
   "cell_type": "code",
   "execution_count": 5,
   "metadata": {
    "collapsed": true
   },
   "outputs": [],
   "source": [
    "#current factors include veteran rookie status, train models for five positions separately"
   ]
  },
  {
   "cell_type": "code",
   "execution_count": 6,
   "metadata": {
    "collapsed": true
   },
   "outputs": [],
   "source": [
    "test_data = [[],[],[],[],[]]\n",
    "test_names = [[],[],[],[],[]]\n",
    "cul_data = [[],[],[],[],[]]\n",
    "names_data = [[],[],[],[],[]]\n",
    "for season in [2013,2014,2015,2016]:\n",
    "    year = season+1\n",
    "    data_list = get_sal_data(season)\n",
    "    per_data,age_data,min_data,wS_data = get_player_data(year)\n",
    "    for player in data_list:\n",
    "        name = player[0]\n",
    "        pos = player[1]\n",
    "        salary = player[2]\n",
    "        ratio = player[3]\n",
    "        if name in per_data.keys() and salary>10:\n",
    "            PER = per_data[name]\n",
    "            WS = wS_data[name]\n",
    "            age = age_data[name]\n",
    "            vet = int(age>=35)\n",
    "            roo = int(age<=25)\n",
    "            mp = min_data[name]\n",
    "            cul_data[pos-1].append([salary,ratio,mp,PER,PER**2,PER**3,WS,WS/mp,vet,roo,mp*PER,age])\n",
    "            names_data[pos-1].append(name)\n",
    "t_season = 2017\n",
    "t_year = 2018\n",
    "data_test = get_sal_data(t_season)\n",
    "per_test,age_test,min_test,wS_test = get_player_data(t_year)\n",
    "for player in data_test:\n",
    "        name = player[0]\n",
    "        pos = player[1]\n",
    "        salary = player[2]\n",
    "        ratio = player[3]\n",
    "        if name in per_test.keys() and salary>10:\n",
    "            PER = per_test[name]\n",
    "            age = age_test[name]\n",
    "            WS = wS_test[name]\n",
    "            vet = int(age>=35)\n",
    "            roo = int(age<=25)\n",
    "            mp = min_test[name]\n",
    "            test_data[pos-1].append([salary,ratio,mp,PER,PER**2,PER**3,WS,WS/mp,vet,roo,mp*PER,age])\n",
    "            test_names[pos-1].append(name)"
   ]
  },
  {
   "cell_type": "code",
   "execution_count": 7,
   "metadata": {},
   "outputs": [],
   "source": [
    "i = 2 #select a position 0-PG, 1-SG, 2-SF, 3-PF, 4-C\n",
    "cur_data = np.array(cul_data[i])\n",
    "cur_test = np.array(test_data[i])\n",
    "cur_names = names_data[i]\n",
    "cur_testname = test_names[i]\n",
    "Z = cur_data[:,0]\n",
    "Y = cur_data[:,1]\n",
    "X = cur_data[:,3:-1]\n",
    "testX = cur_test[:,3:-1]\n",
    "testY = cur_test[:,1]\n",
    "testZ = cur_test[:,0]"
   ]
  },
  {
   "cell_type": "code",
   "execution_count": 8,
   "metadata": {},
   "outputs": [
    {
     "name": "stdout",
     "output_type": "stream",
     "text": [
      "Test R^2 = 0.496433362135\n",
      "Train R^2 = 0.666055656437\n",
      "[ -5.00276369e-02   2.55840950e-03  -4.45193655e-05  -1.54731039e-02\n",
      "   1.80809550e-01  -6.51857495e-03  -2.37353930e-02   5.67924863e-04] 0.241817694698\n"
     ]
    }
   ],
   "source": [
    "from sklearn.linear_model import LinearRegression\n",
    "#from sklearn.cross_validation import KFold\n",
    "#kf = KFold(len(Wins),n_folds=5,shuffle=True)\n",
    "#pred=[]\n",
    "#test case Memphis Grizzlies\n",
    "\n",
    "regr = LinearRegression()\n",
    "    # Iterate through folds\n",
    "regr.fit(X,Y)\n",
    "\n",
    "pred = regr.predict(np.array(testX))\n",
    " \n",
    "print \"Test R^2 = \"+str(regr.score(testX,testY))\n",
    "print \"Train R^2 = \"+str(regr.score(X,Y))   \n",
    "print regr.coef_,regr.intercept_\n"
   ]
  },
  {
   "cell_type": "code",
   "execution_count": 9,
   "metadata": {},
   "outputs": [
    {
     "data": {
      "text/plain": [
       "[[3328, 3909, 'LeBron James', 30.2, 7.7, 37.2, 33],\n",
       " [2624, 1619, 'Carmelo Anthony', 14.6, 2.7, 32.8, 33],\n",
       " [2500, 3309, 'Kevin Durant', 24.7, 4.8, 34.7, 29],\n",
       " [2311, 837, 'Chandler Parsons', 14.6, 1.1, 21.0, 29],\n",
       " [2311, 1845, 'Harrison Barnes', 16.1, 2.1, 34.8, 25],\n",
       " [2055, 1323, 'Danilo Gallinari', 10.4, 0.2, 31.7, 29],\n",
       " [1950, 2484, 'Paul George', 18.4, 4.1, 36.7, 27],\n",
       " [1886, 2106, 'Kawhi Leonard', 25.3, 0.7, 22.6, 26],\n",
       " [1719, 747, 'Luol Deng', 5.6, 0.0, 13.0, 32],\n",
       " [1691, 1398, 'Kent Bazemore', 14.6, 1.3, 28.3, 28],\n",
       " [1669, 1454, 'Robert Covington', 13.8, 2.8, 32.3, 27],\n",
       " [1600, 1773, 'Tobias Harris', 17.7, 3.8, 32.8, 25],\n",
       " [1481, 877, 'Andre Iguodala', 10.2, 1.6, 26.2, 34],\n",
       " [1480, 1243, 'DeMarre Carroll', 13.4, 1.9, 28.8, 31],\n",
       " [1413, 1241, 'Joe Ingles', 12.8, 2.5, 30.5, 30],\n",
       " [1410, 2379, 'Khris Middleton', 17.0, 3.0, 37.3, 26],\n",
       " [1201, 1159, 'Wilson Chandler', 10.2, 1.4, 31.1, 30],\n",
       " [1050, 1330, 'Bojan Bogdanovic', 12.6, 1.9, 31.3, 28],\n",
       " [1000, 194, 'Jared Dudley', 11.9, 0.5, 12.8, 32],\n",
       " [840, 1220, 'Rudy Gay', 17.7, 2.1, 22.7, 31],\n",
       " [793, 627, 'C.J. Miles', 14.9, 1.5, 18.3, 30],\n",
       " [759, 902, 'P.J. Tucker', 8.0, 1.6, 27.0, 32],\n",
       " [742, 1458, 'Trevor Ariza', 12.1, 3.1, 36.0, 32],\n",
       " [731, 1204, 'Al-Farouq Aminu', 11.8, 1.7, 30.3, 27],\n",
       " [679, 894, 'Jae Crowder', 9.8, 1.1, 25.9, 27],\n",
       " [665, 808, 'Lance Thomas', 6.3, 0.6, 19.1, 29],\n",
       " [630, 1286, 'Jonathon Simmons', 12.5, 0.5, 28.9, 28],\n",
       " [588, 793, 'Wesley Johnson', 9.6, 0.8, 23.5, 30],\n",
       " [525, 962, 'Thabo Sefolosha', 16.2, 2.2, 21.7, 33],\n",
       " [329, 774, 'Doug McDermott', 10.4, 1.5, 24.0, 26],\n",
       " [302, 786, 'James Ennis', 11.9, 1.8, 23.6, 27],\n",
       " [250, 785, 'Reggie Bullock', 13.1, 1.4, 22.0, 26],\n",
       " [210, 633, 'Darius Miller', 10.6, 1.5, 21.3, 27],\n",
       " [157, 37, 'Shabazz Muhammad', 8.5, 0.1, 11.0, 25],\n",
       " [147, 447, 'Luke Babbitt', 11.4, 0.9, 17.2, 28],\n",
       " [147, 1023, 'Jeff Green', 16.2, 2.3, 22.5, 31],\n",
       " [147, 1057, 'Michael Beasley', 19.2, 1.0, 18.6, 29],\n",
       " [147, 698, 'Josh Huestis', 6.1, 0.4, 14.4, 26],\n",
       " [147, 622, 'Omri Casspi', 17.4, 2.1, 16.2, 29],\n",
       " [145, 1006, 'Richard Jefferson', 3.5, 0.0, 6.0, 37],\n",
       " [131, -112, 'Davis Bertans', 14.1, 1.2, 11.5, 25]]"
      ]
     },
     "execution_count": 9,
     "metadata": {},
     "output_type": "execute_result"
    }
   ],
   "source": [
    "pred_show = []\n",
    "cur_cap = 9909\n",
    "for i in range(len(cur_testname)):\n",
    "    name = cur_testname[i]\n",
    "    per = round(testX[i][0],1)\n",
    "    age = int(cur_test[i][-1])\n",
    "    mp = round(cur_test[i][2],1)\n",
    "    ws = round(testX[i][3],1)\n",
    "    sal_pred = int(pred[i]*cur_cap)\n",
    "    true_sal = int(testZ[i])\n",
    "    pred_show.append([true_sal,sal_pred,name,per,ws,mp,age])\n",
    "pred_show"
   ]
  },
  {
   "cell_type": "code",
   "execution_count": null,
   "metadata": {
    "collapsed": true
   },
   "outputs": [],
   "source": []
  }
 ],
 "metadata": {
  "kernelspec": {
   "display_name": "Python 2",
   "language": "python",
   "name": "python2"
  },
  "language_info": {
   "codemirror_mode": {
    "name": "ipython",
    "version": 2
   },
   "file_extension": ".py",
   "mimetype": "text/x-python",
   "name": "python",
   "nbconvert_exporter": "python",
   "pygments_lexer": "ipython2",
   "version": "2.7.13"
  }
 },
 "nbformat": 4,
 "nbformat_minor": 2
}
